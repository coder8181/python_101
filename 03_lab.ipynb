{
 "cells": [
  {
   "cell_type": "markdown",
   "id": "48fc60fb",
   "metadata": {},
   "source": [
    "## Lists 📋\n",
    "Lists are like containers where you can store multiple items. They are versatile and allow you to store items of different types."
   ]
  },
  {
   "cell_type": "markdown",
   "id": "831e6e9f",
   "metadata": {},
   "source": [
    "### Instructions:\n",
    "1. Create a list of your favorite fruits. 🍎🍌🍇\n",
    "2. Print the number of items in the list using the `len()` function. 📏\n",
    "3. Add a new fruit to the list and print the updated list. ➕\n",
    "4. Remove a fruit from the list and print the updated list. ➖\n",
    "5. Sort the list alphabetically and print it. 🔤"
   ]
  },
  {
   "cell_type": "code",
   "execution_count": null,
   "id": "607ff51f",
   "metadata": {},
   "outputs": [],
   "source": [
    "# Step 1: Create a list of favorite fruits\n",
    "fruits = ['Apple', 'Banana', 'Grapes']\n",
    "\n",
    "# Step 2: Print the number of items in the list\n",
    "print('Number of fruits:', len(fruits))\n",
    "\n",
    "# Step 3: Add a new fruit to the list\n",
    "fruits.append('Orange')\n",
    "print('Updated list of fruits:', fruits)\n",
    "\n",
    "# Step 4: Remove a fruit from the list\n",
    "fruits.remove('Banana')\n",
    "print('Updated list of fruits after removal:', fruits)\n",
    "\n",
    "# Step 5: Sort the list alphabetically\n",
    "fruits.sort()\n",
    "print('Alphabetically sorted list of fruits:', fruits)"
   ]
  },
  {
   "cell_type": "markdown",
   "id": "a37c766c",
   "metadata": {},
   "source": [
    "### Instructions:\n",
    "1. Create a list of your favorite movies. 🎥\n",
    "2. Print the first and last movie in the list. 🎬\n",
    "3. Add a new movie to the list and print the updated list. ➕\n",
    "4. Replace the second movie in the list with another movie and print the updated list. 🔄\n",
    "5. Check if a specific movie is in the list and print the result. ✅"
   ]
  },
  {
   "cell_type": "code",
   "execution_count": null,
   "id": "851cde42",
   "metadata": {},
   "outputs": [],
   "source": [
    "# Step 1: Create a list of favorite movies\n",
    "movies = ['Inception', 'The Matrix', 'Interstellar']\n",
    "\n",
    "# Step 2: Print the first and last movie in the list\n",
    "print('First movie:', movies[0])\n",
    "print('Last movie:', movies[-1])\n",
    "\n",
    "# Step 3: Add a new movie to the list\n",
    "movies.append('The Dark Knight')\n",
    "print('Updated list of movies:', movies)\n",
    "\n",
    "# Step 4: Replace the second movie in the list\n",
    "movies[1] = 'Avatar'\n",
    "print('Updated list of movies after replacement:', movies)\n",
    "\n",
    "# Step 5: Check if a specific movie is in the list\n",
    "print('Is \"Inception\" in the list?', 'Inception' in movies)"
   ]
  }
 ],
 "metadata": {
  "language_info": {
   "name": "python"
  }
 },
 "nbformat": 4,
 "nbformat_minor": 5
}
