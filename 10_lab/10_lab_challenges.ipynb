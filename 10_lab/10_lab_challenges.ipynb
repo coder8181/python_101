{
 "cells": [
  {
   "cell_type": "markdown",
   "id": "946f3a13",
   "metadata": {},
   "source": [
    "# Python Modules & Namespaces: Challenges! 🧩📦\n",
    "Ready to become a Module Master? Try these fun challenges to practice using modules and namespaces in Python!"
   ]
  },
  {
   "cell_type": "markdown",
   "id": "9309a374",
   "metadata": {},
   "source": [
    "## Challenge 1: My Animal Sounds Module 🐶🐱\n",
    "1. Create a new file called `my_animals.py`.\n",
    "2. In that file, write two functions: `dog_sound()` and `cat_sound()`. Each should print a fun sound (like \"Woof!\" or \"Meow!\").\n",
    "3. In your main file, import your module and call both functions!"
   ]
  },
  {
   "cell_type": "code",
   "execution_count": 1,
   "id": "30e71cb1",
   "metadata": {},
   "outputs": [
    {
     "name": "stdout",
     "output_type": "stream",
     "text": [
      "Woof! Woof! 🐶\n",
      "Meow! Meow! 🐱\n"
     ]
    }
   ],
   "source": [
    "with open(\"my_animals.py\", \"w\") as f:\n",
    "\tf.write(\"\"\"\n",
    "def dog_sound():\n",
    "\tprint(\"Woof! Woof! 🐶\")\n",
    "\n",
    "def cat_sound():\n",
    "\tprint(\"Meow! Meow! 🐱\")\n",
    "\"\"\")\n",
    "\n",
    "import my_animals\n",
    "\n",
    "my_animals.dog_sound()\n",
    "my_animals.cat_sound()"
   ]
  },
  {
   "cell_type": "markdown",
   "id": "06a2bd68",
   "metadata": {},
   "source": [
    "## Challenge 2: Colorful Module 🎨\n",
    "1. Make a module called `my_colors.py`.\n",
    "2. Add functions like `red()`, `blue()`, and `green()` that print something fun about each color (use emojis!).\n",
    "3. Import your module and call all the color functions."
   ]
  },
  {
   "cell_type": "code",
   "execution_count": 2,
   "id": "6b2c23e0",
   "metadata": {},
   "outputs": [
    {
     "name": "stdout",
     "output_type": "stream",
     "text": [
      "Red is the color of passion! ❤️\n",
      "Blue is the color of calm! 💙\n",
      "Green is the color of nature! 💚\n"
     ]
    }
   ],
   "source": [
    "with open(\"my_colors.py\", \"w\") as f:\n",
    "    f.write(\"\"\"\n",
    "def red():\n",
    "    print(\"Red is the color of passion! ❤️\")\n",
    "def blue():\n",
    "    print(\"Blue is the color of calm! 💙\")\n",
    "def green():\n",
    "    print(\"Green is the color of nature! 💚\")\n",
    "\"\"\")    \n",
    "import my_colors\n",
    "my_colors.red()\n",
    "my_colors.blue()\n",
    "my_colors.green()\n",
    "    "
   ]
  },
  {
   "cell_type": "markdown",
   "id": "e5723fb7",
   "metadata": {},
   "source": [
    "## Challenge 3: Name Clash! 🚨\n",
    "1. Create two modules: `fruits.py` and `vehicles.py`.\n",
    "2. In both, write a function called `show()` that prints something different (e.g., \"Apple!\" in `fruits.py`, \"Car!\" in `vehicles.py`).\n",
    "3. In your main file, import both modules and call `fruits.show()` and `vehicles.show()`. See how namespaces keep things organized!"
   ]
  },
  {
   "cell_type": "code",
   "execution_count": 12,
   "id": "279c12eb",
   "metadata": {},
   "outputs": [
    {
     "name": "stdout",
     "output_type": "stream",
     "text": [
      "An apple a day keeps the doctor away!\n",
      "lamborghini!\n"
     ]
    }
   ],
   "source": [
    "with open(\"fruits.py\", \"w\") as f:\n",
    "    f.write(\"\"\"\n",
    "def show():\n",
    "    print(\"An apple a day keeps the doctor away!\")\n",
    "\"\"\")\n",
    "\n",
    "with open(\"vehicles.py\", \"w\") as f:\n",
    "    f.write(\"\"\"\n",
    "def show():\n",
    "    print(\"lamborghini!\")\n",
    "\"\"\")\n",
    "\n",
    "import fruits\n",
    "import vehicles\n",
    "fruits.show()\n",
    "vehicles.show()\n"
   ]
  },
  {
   "cell_type": "markdown",
   "id": "66e93402",
   "metadata": {},
   "source": [
    "## Challenge 4: Built-in Module Magic ✨\n",
    "1. Import the `random` module.\n",
    "2. Use `random.choice()` to pick a random animal from a list and print it.\n",
    "3. Try using another built-in module, like `math`, to do something cool (like finding the square root of 49)."
   ]
  },
  {
   "cell_type": "code",
   "execution_count": 17,
   "id": "13a0b1da",
   "metadata": {},
   "outputs": [
    {
     "name": "stdout",
     "output_type": "stream",
     "text": [
      "elderberry\n",
      "7.0\n"
     ]
    }
   ],
   "source": [
    "import random as r\n",
    "print(r.choice([\"apple\", \"banana\", \"cherry\", \"date\", \"elderberry\", \"fig\", \"grape\"]))\n",
    "\n",
    "import math as m\n",
    "print(m.sqrt(49))  # Square root of 16"
   ]
  },
  {
   "cell_type": "markdown",
   "id": "2c70abed",
   "metadata": {},
   "source": [
    "## Challenge 5: Super Importer! 🦸‍♂️\n",
    "1. Import a module using an alias (nickname) with `as`.\n",
    "2. For example, import `math` as `m` and use `m.pi` to print the value of pi.\n",
    "3. Try making your own module and import it with a nickname!"
   ]
  },
  {
   "cell_type": "code",
   "execution_count": null,
   "id": "ba456cd4",
   "metadata": {},
   "outputs": [
    {
     "name": "stdout",
     "output_type": "stream",
     "text": [
      "3.141592653589793\n",
      "2025-06-01 20:08:24.534762\n",
      "1748772504.534863\n"
     ]
    }
   ],
   "source": [
    "import math as m\n",
    "print(m.pi)\n",
    "import datetime as dt\n",
    "print(dt.datetime.now()) \n",
    "import time as t\n",
    "print(t.time())"
   ]
  },
  {
   "cell_type": "markdown",
   "id": "a1afceb6",
   "metadata": {},
   "source": [
    "## Bonus Challenge: The Ultimate Toolbox 🧰\n",
    "1. Make a module called `toolbox.py`.\n",
    "2. Add at least three different functions (like `hammer()`, `screwdriver()`, `wrench()`) that print what each tool does.\n",
    "3. Import your toolbox and use all your tools in your main file!"
   ]
  },
  {
   "cell_type": "code",
   "execution_count": 18,
   "id": "693ab98b",
   "metadata": {},
   "outputs": [
    {
     "name": "stdout",
     "output_type": "stream",
     "text": [
      "A hammer is used to hit nails!\n",
      "A screwdriver is used to turn screws!\n",
      "A wrench is used to grip and turn objects!\n"
     ]
    }
   ],
   "source": [
    "\n",
    "with open(\"toolbox.py\", \"w\") as f:\n",
    "    f.write(\"\"\"\n",
    "def hammer():\n",
    "    print(\"A hammer is used to hit nails!\")\n",
    "def screwdriver():\n",
    "    print(\"A screwdriver is used to turn screws!\")\n",
    "def wrench():\n",
    "    print(\"A wrench is used to grip and turn objects!\")\n",
    "\"\"\")\n",
    "\n",
    "import toolbox\n",
    "toolbox.hammer()\n",
    "toolbox.screwdriver()\n",
    "toolbox.wrench()\n"
   ]
  }
 ],
 "metadata": {
  "kernelspec": {
   "display_name": "Python 3",
   "language": "python",
   "name": "python3"
  },
  "language_info": {
   "codemirror_mode": {
    "name": "ipython",
    "version": 3
   },
   "file_extension": ".py",
   "mimetype": "text/x-python",
   "name": "python",
   "nbconvert_exporter": "python",
   "pygments_lexer": "ipython3",
   "version": "3.9.6"
  }
 },
 "nbformat": 4,
 "nbformat_minor": 5
}
