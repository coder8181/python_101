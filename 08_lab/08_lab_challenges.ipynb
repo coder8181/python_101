{
 "cells": [
  {
   "cell_type": "markdown",
   "id": "6e53d6ea",
   "metadata": {},
   "source": [
    "# File Operations Challenges 📁✨\n",
    "Let's practice working with files in Python! Try these fun and simple challenges to become a file-handling superstar."
   ]
  },
  {
   "cell_type": "markdown",
   "id": "58302cd8",
   "metadata": {},
   "source": [
    "## Challenge 1: Write Your Favorite Animal\n",
    "Ask the user for their favorite animal and save it to a file called `animals.txt`."
   ]
  },
  {
   "cell_type": "code",
   "execution_count": null,
   "id": "83d40c61",
   "metadata": {},
   "outputs": [
    {
     "name": "stdout",
     "output_type": "stream",
     "text": [
      "Your favorite animal has been saved to animals.txt.\n"
     ]
    }
   ],
   "source": [
    "# Your code here\n",
    "favorite_animal = input(\"What is your favorite animal? \")\n",
    "with open(\"animals.txt\", \"w\") as file:\n",
    "\tfile.write(favorite_animal + \"\\n\")\n",
    "print(\"Your favorite animal has been saved to animals.txt.\")\n",
    "\n"
   ]
  },
  {
   "cell_type": "markdown",
   "id": "4e8e59be",
   "metadata": {},
   "source": [
    "## Challenge 2: Read and Print the Animal\n",
    "Read the animal name from `animals.txt` and print it out with a fun message."
   ]
  },
  {
   "cell_type": "code",
   "execution_count": 2,
   "id": "d5ff4e2e",
   "metadata": {},
   "outputs": [
    {
     "name": "stdout",
     "output_type": "stream",
     "text": [
      "File content:\n",
      "zebra\n",
      "\n"
     ]
    }
   ],
   "source": [
    "# Your code here\n",
    "with open(\"animals.txt\", \"r\") as file:\n",
    "    content = file.read()\n",
    "print(\"File content:\")\n",
    "print(content)\n"
   ]
  },
  {
   "cell_type": "markdown",
   "id": "737e29de",
   "metadata": {},
   "source": [
    "## Challenge 3: Add More Animals\n",
    "Ask the user for another animal and add it to `animals.txt` (without erasing the old one!)."
   ]
  },
  {
   "cell_type": "code",
   "execution_count": 3,
   "id": "a4e368f5",
   "metadata": {},
   "outputs": [
    {
     "name": "stdout",
     "output_type": "stream",
     "text": [
      "Your favorite animal has been saved to animals.txt.\n"
     ]
    }
   ],
   "source": [
    "# Your code here\n",
    "favorite_animal = input(\"What is your favorite animal? \")\n",
    "with open(\"animals.txt\", \"a\") as file:\n",
    "\tfile.write(favorite_animal + \"\\n\")\n",
    "print(\"Your favorite animal has been saved to animals.txt.\")\n"
   ]
  },
  {
   "cell_type": "markdown",
   "id": "b53a5383",
   "metadata": {},
   "source": [
    "## Challenge 4: Print All Animals\n",
    "Read all the animal names from `animals.txt` and print each one on a new line with a cute emoji."
   ]
  },
  {
   "cell_type": "code",
   "execution_count": 6,
   "id": "25b9f0ac",
   "metadata": {},
   "outputs": [
    {
     "name": "stdout",
     "output_type": "stream",
     "text": [
      "zebra 🐾\n",
      "elephant 🐾\n"
     ]
    }
   ],
   "source": [
    "# Your code here\n",
    "with open(\"animals.txt\", \"r\") as file:\n",
    "    content = file.read()\n",
    "\n",
    "cute_emoji = \"🐾\"\n",
    "for animal in content.strip().split('\\n'):\n",
    "    print(f\"{animal} {cute_emoji}\")"
   ]
  }
 ],
 "metadata": {
  "kernelspec": {
   "display_name": "Python 3",
   "language": "python",
   "name": "python3"
  },
  "language_info": {
   "codemirror_mode": {
    "name": "ipython",
    "version": 3
   },
   "file_extension": ".py",
   "mimetype": "text/x-python",
   "name": "python",
   "nbconvert_exporter": "python",
   "pygments_lexer": "ipython3",
   "version": "3.9.6"
  }
 },
 "nbformat": 4,
 "nbformat_minor": 5
}
