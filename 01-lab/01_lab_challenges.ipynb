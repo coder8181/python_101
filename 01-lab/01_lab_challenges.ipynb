{
 "cells": [
  {
   "cell_type": "markdown",
   "id": "add7f52e",
   "metadata": {},
   "source": [
    "## Challenges: Variables and Print Statements\n",
    "1. Create a variable to store your favorite food and print a message about it. 🍕\n",
    "   Hint: Use the `print()` function to display the message.\n",
    "2. Store your best friend's name in a variable and print a message introducing them. 👫\n",
    "3. Create two variables for your height and weight, and print a message showing both. 📏⚖️\n",
    "4. Store your favorite hobby in a variable and print a message about why you love it. 🎨\n",
    "5. Create a variable for your birth year and calculate your age using the current year. 🎂\n",
    "   Hint: Subtract your birth year from the current year."
   ]
  },
  {
   "cell_type": "code",
   "execution_count": null,
   "id": "d65e15da",
   "metadata": {},
   "outputs": [],
   "source": [
    "# Challenge 1: Variables and Print Statements\n",
    "# Create a variable to store your favorite food and print a message about it.\n",
    "# Hint: Use the print() function to display the message.\n",
    "\n",
    "# Your code here\n",
    "favorite_food = \"Pizza\"\n",
    "print(f\"My favorite food is {favorite_food}.\")\n"
   ]
  },
  {
   "cell_type": "code",
   "execution_count": null,
   "id": "275845b2",
   "metadata": {},
   "outputs": [],
   "source": [
    "# Challenge 2: Variables and Print Statements\n",
    "# Store your best friend's name in a variable and print a message introducing them.\n",
    "\n",
    "# Your code here\n",
    "best_friend_name = \"Alice\"\n",
    "print(f\"My best friend's name is {best_friend_name}.\")"
   ]
  },
  {
   "cell_type": "code",
   "execution_count": null,
   "id": "5c79c9d5",
   "metadata": {},
   "outputs": [],
   "source": [
    "# Challenge 3: Variables and Print Statements\n",
    "# Create two variables for your height and weight, and print a message showing both.\n",
    "\n",
    "# Your code here\n",
    "height = 164\n",
    "weight = 45\n",
    "print(f\"My height is {height} cm and my weight is {weight} kg.\")"
   ]
  },
  {
   "cell_type": "code",
   "execution_count": null,
   "id": "1ca5ffb0",
   "metadata": {},
   "outputs": [],
   "source": [
    "# Challenge 4: Variables and Print Statements\n",
    "# Store your favorite hobby in a variable and print a message about why you love it.\n",
    "\n",
    "# Your code here\n",
    "favorite_hobby = \"playing badminton\"\n",
    "print(f\"I love {favorite_hobby} because it keeps me active and is a lot of fun!\")"
   ]
  },
  {
   "cell_type": "code",
   "execution_count": null,
   "id": "cf9752b2",
   "metadata": {},
   "outputs": [],
   "source": [
    "# Challenge 5: Variables and Print Statements\n",
    "# Create a variable for your birth year and calculate your age using the current year.\n",
    "# Hint: Subtract your birth year from the current year.\n",
    "\n",
    "# Your code here\n",
    "current_year = 2023\n",
    "birth_year = 2010\n",
    "age = current_year - birth_year\n",
    "print(f\"I am {age} years old.\")"
   ]
  },
  {
   "cell_type": "markdown",
   "id": "214984ae",
   "metadata": {},
   "source": [
    "## Challenges: Conditions (if-else)\n",
    "1. Write a program to check if a number is divisible by both 3 and 5. 🔢\n",
    "   Hint: Use the modulo operator `%` to check divisibility.\n",
    "2. Create a program to check if a given word starts with a vowel. 🅰️\n",
    "3. Write a program to determine if a person is eligible for a senior citizen discount (age >= 60). 👵\n",
    "4. Check if a number is a multiple of 7 or not. 🎲\n",
    "5. Write a program to decide if a temperature is 'hot', 'cold', or 'moderate' based on user input. 🌡️\n",
    "   Hint: Use if-elif-else conditions to categorize the temperature."
   ]
  },
  {
   "cell_type": "code",
   "execution_count": null,
   "id": "f276486a",
   "metadata": {},
   "outputs": [],
   "source": [
    "# Challenge 1: Conditions (if-else)\n",
    "# Write a program to check if a number is divisible by both 3 and 5.\n",
    "# Hint: Use the modulo operator % to check divisibility.\n",
    "\n",
    "# Your code here\n",
    "number = 15\n",
    "if number % 3 == 0 and number % 5 == 0:\n",
    "    print(f\"{number} is divisible by both 3 and 5.\")\n",
    "else:\n",
    "    print(f\"{number} is not divisible by both 3 and 5.\")"
   ]
  },
  {
   "cell_type": "code",
   "execution_count": null,
   "id": "b3ef5df6",
   "metadata": {},
   "outputs": [],
   "source": [
    "# Challenge 2: Conditions (if-else)\n",
    "# Create a program to check if a given word starts with a vowel.\n",
    "\n",
    "# Your code here\n",
    "word = \"apple\"\n",
    "if word[0].lower() in 'aeiou':\n",
    "    print(f\"The word '{word}' starts with a vowel.\")\n",
    "else:\n",
    "    print(f\"The word '{word}' does not start with a vowel.\")"
   ]
  },
  {
   "cell_type": "code",
   "execution_count": null,
   "id": "5347151f",
   "metadata": {},
   "outputs": [],
   "source": [
    "# Challenge 3: Conditions (if-else)\n",
    "# Write a program to determine if a person is eligible for a senior citizen discount (age >= 60).\n",
    "\n",
    "# Your code here\n",
    "age = 65\n",
    "if age >= 60:\n",
    "    print(\"You are eligible for a senior citizen discount.\")\n",
    "else:\n",
    "    print(\"You are not eligible for a senior citizen discount.\")"
   ]
  },
  {
   "cell_type": "code",
   "execution_count": null,
   "id": "d77950d3",
   "metadata": {},
   "outputs": [],
   "source": [
    "# Challenge 4: Conditions (if-else)\n",
    "# Check if a number is a multiple of 7 or not.\n",
    "\n",
    "# Your code here\n",
    "number = 21\n",
    "if number % 7 == 0:\n",
    "    print(f\"{number} is a multiple of 7.\")\n",
    "else:\n",
    "    print(f\"{number} is not a multiple of 7.\")"
   ]
  },
  {
   "cell_type": "code",
   "execution_count": null,
   "id": "4b26a95c",
   "metadata": {},
   "outputs": [],
   "source": [
    "# Challenge 5: Conditions (if-else)\n",
    "# Write a program to decide if a temperature is 'hot', 'cold', or 'moderate' based on user input.\n",
    "# Hint: Use if-elif-else conditions to categorize the temperature.\n",
    "\n",
    "# Your code here\n",
    "temperature = 30\n",
    "if temperature > 30:\n",
    "    print(\"It's hot.\")\n",
    "elif temperature < 15:\n",
    "    print(\"It's cold.\")\n",
    "else:\n",
    "    print(\"It's moderate.\")"
   ]
  },
  {
   "cell_type": "markdown",
   "id": "8dfdb05f",
   "metadata": {},
   "source": [
    "## Challenges: Loops (for and while)\n",
    "1. Use a for loop to print the first 10 square numbers. 🔢\n",
    "   Hint: Use `i**2` to calculate the square of a number.\n",
    "2. Write a while loop to calculate the sum of all even numbers between 1 and 50. ➕\n",
    "3. Create a for loop to print all the characters in a string in reverse order. 🔄\n",
    "4. Use a while loop to find the factorial of a number provided by the user. ✖️\n",
    "   Hint: Multiply numbers in descending order until 1.\n",
    "5. Write a for loop to print all the prime numbers between 1 and 100. 🧮\n",
    "   Hint: Use nested loops to check if a number is divisible only by 1 and itself."
   ]
  },
  {
   "cell_type": "code",
   "execution_count": null,
   "id": "9aac1dd1",
   "metadata": {},
   "outputs": [],
   "source": [
    "# Challenge 1: Loops (for and while)\n",
    "# Use a for loop to print the first 10 square numbers.\n",
    "# Hint: Use i**2 to calculate the square of a number.\n",
    "\n",
    "# Your code here\n",
    "for i in range(1, 11):\n",
    "    print(f\"The square of {i} is {i**2}.\")"
   ]
  },
  {
   "cell_type": "code",
   "execution_count": null,
   "id": "9c0ca983",
   "metadata": {},
   "outputs": [],
   "source": [
    "# Challenge 2: Loops (for and while)\n",
    "# Write a while loop to calculate the sum of all even numbers between 1 and 50.\n",
    "\n",
    "# Your code here\n",
    "sum_even = 0\n",
    "number = 1\n",
    "while number <= 50:\n",
    "    if number % 2 == 0:\n",
    "        sum_even += number\n",
    "    number += 1"
   ]
  },
  {
   "cell_type": "code",
   "execution_count": 1,
   "id": "9f66a457",
   "metadata": {},
   "outputs": [
    {
     "name": "stdout",
     "output_type": "stream",
     "text": [
      "! d l r o W   , o l l e H "
     ]
    }
   ],
   "source": [
    "# Challenge 3: Loops (for and while)\n",
    "# Create a for loop to print all the characters in a string in reverse order.\n",
    "\n",
    "# Your code here\n",
    "string = \"Hello, World!\"\n",
    "for char in reversed(string):\n",
    "    print(char, end=' ')"
   ]
  },
  {
   "cell_type": "code",
   "execution_count": null,
   "id": "c623c632",
   "metadata": {},
   "outputs": [],
   "source": [
    "# Challenge 4: Loops (for and while)\n",
    "# Use a while loop to find the factorial of a number provided by the user.\n",
    "# Hint: Multiply numbers in descending order until 1.\n",
    "\n",
    "# Your code here\n",
    "number = 5\n",
    "factorial = 1\n",
    "while number > 1:\n",
    "    factorial *= number\n",
    "    number -= 1\n",
    "print(f\"The factorial is {factorial}.\")"
   ]
  },
  {
   "cell_type": "code",
   "execution_count": 2,
   "id": "1effc3ee",
   "metadata": {},
   "outputs": [
    {
     "name": "stdout",
     "output_type": "stream",
     "text": [
      "2 3 5 7 11 13 17 19 23 29 31 37 41 43 47 53 59 61 67 71 73 79 83 89 97 "
     ]
    }
   ],
   "source": [
    "# Challenge 5: Loops (for and while)\n",
    "# Write a for loop to print all the prime numbers between 1 and 100.\n",
    "# Hint: Use nested loops to check if a number is divisible only by 1 and itself.\n",
    "\n",
    "# Your code here\n",
    "def is_prime(num):\n",
    "    if num < 2:\n",
    "        return False\n",
    "    for i in range(2, int(num**0.5) + 1):\n",
    "        if num % i == 0:\n",
    "            return False\n",
    "    return True\n",
    "for num in range(1, 101):\n",
    "    if is_prime(num):\n",
    "        print(num, end=' ')"
   ]
  },
  {
   "cell_type": "markdown",
   "id": "944e68a3",
   "metadata": {},
   "source": [
    "## Challenges: User Input\n",
    "1. Ask the user for their favorite movie and print a message recommending it to others. 🎥\n",
    "2. Write a program to ask the user for two numbers and print their sum, difference, and product. ➕➖✖️\n",
    "3. Ask the user for their birth year and calculate their age. 🎂\n",
    "   Hint: Subtract the birth year from the current year.\n",
    "4. Create a program to ask the user for a number and check if it's even or odd. 🔢\n",
    "   Hint: Use the modulo operator `%` to check for evenness.\n",
    "5. Ask the user for their name and a number, then print their name that many times. 🔁\n",
    "   Hint: Use a loop to repeat the name."
   ]
  },
  {
   "cell_type": "code",
   "execution_count": null,
   "id": "303b4246",
   "metadata": {},
   "outputs": [],
   "source": [
    "# Challenge 1: User Input\n",
    "# Ask the user for their favorite movie and print a message recommending it to others.\n",
    "\n",
    "# Your code here\n",
    "favorite_movie = input(\"What is your favorite movie? \")\n",
    "print(f\"I recommend watching '{favorite_movie}' to everyone!\")"
   ]
  },
  {
   "cell_type": "code",
   "execution_count": null,
   "id": "3d4f3aad",
   "metadata": {},
   "outputs": [],
   "source": [
    "# Challenge 2: User Input\n",
    "# Write a program to ask the user for two numbers and print their sum, difference, and product.\n",
    "\n",
    "# Your code here\n",
    "num1 = float(input(\"Enter the first number: \"))\n",
    "num2 = float(input(\"Enter the second number: \"))\n",
    "sum_result = num1 + num2\n",
    "difference_result = num1 - num2\n",
    "product_result = num1 * num2\n",
    "print(f\"The sum is {sum_result}, the difference is {difference_result}, and the product is {product_result}.\")"
   ]
  },
  {
   "cell_type": "code",
   "execution_count": null,
   "id": "8486f7de",
   "metadata": {},
   "outputs": [],
   "source": [
    "# Challenge 3: User Input\n",
    "# Ask the user for their birth year and calculate their age.\n",
    "# Hint: Subtract the birth year from the current year.\n",
    "\n",
    "# Your code here\n",
    "current_year = 2023\n",
    "birth_year = int(input(\"Enter your birth year: \"))\n",
    "age = current_year - birth_year\n",
    "print(f\"You are {age} years old.\")"
   ]
  },
  {
   "cell_type": "code",
   "execution_count": null,
   "id": "a8192cda",
   "metadata": {},
   "outputs": [],
   "source": [
    "# Challenge 4: User Input\n",
    "# Create a program to ask the user for a number and check if it's even or odd.\n",
    "# Hint: Use the modulo operator % to check for evenness.\n",
    "\n",
    "# Your code here\n",
    "number = int(input(\"Enter a number: \"))\n",
    "if number % 2 == 0:\n",
    "    print(f\"{number} is even.\")\n",
    "else:\n",
    "    print(f\"{number} is odd.\")"
   ]
  },
  {
   "cell_type": "code",
   "execution_count": 8,
   "id": "e463c9d8",
   "metadata": {},
   "outputs": [
    {
     "name": "stdout",
     "output_type": "stream",
     "text": [
      "samarth\n",
      "samarth\n",
      "samarth\n",
      "samarth\n",
      "samarth\n",
      "samarth\n",
      "samarth\n",
      "samarth\n",
      "samarth\n"
     ]
    }
   ],
   "source": [
    "# Challenge 5: User Input\n",
    "# Ask the user for their name and a number, then print their name that many times.\n",
    "# Hint: Use a loop to repeat the name.\n",
    "\n",
    "# Your code here\n",
    "name = input(\"Enter your name: \")\n",
    "while True:\n",
    "    number_input = input(\"Enter a number: \")\n",
    "    if number_input.isdigit():\n",
    "        number = int(number_input)\n",
    "        break\n",
    "    else:\n",
    "        print(\"Please enter a valid number.\")\n",
    "for _ in range(number):\n",
    "    print(name)"
   ]
  },
  {
   "cell_type": "markdown",
   "id": "9b191de5",
   "metadata": {},
   "source": [
    "## Challenges: Working with Strings\n",
    "1. Create a string variable to store your name and print it in reverse order. 🔄\n",
    "   Hint: Use slicing to reverse the string.\n",
    "2. Write a program to count the number of vowels in a given string. 🅰️\n",
    "3. Create a string variable and check if it contains the word 'Python'. 🐍\n",
    "4. Write a program to replace all spaces in a string with underscores. ➖\n",
    "5. Create a string variable and print it with the first letter of each word capitalized. 🔤\n",
    "   Hint: Use the `title()` method."
   ]
  },
  {
   "cell_type": "code",
   "execution_count": 4,
   "id": "ab56d23a",
   "metadata": {},
   "outputs": [
    {
     "name": "stdout",
     "output_type": "stream",
     "text": [
      "Reversed name: vadaY htramaS\n"
     ]
    }
   ],
   "source": [
    "# Challenge 1: Working with Strings\n",
    "# Create a string variable to store your name and print it in reverse order.\n",
    "# Hint: Use slicing to reverse the string.\n",
    "\n",
    "# Your code here\n",
    "name = \"Samarth Yadav\"\n",
    "reversed_name = name[::-1]\n",
    "print(f\"Reversed name: {reversed_name}\")"
   ]
  },
  {
   "cell_type": "code",
   "execution_count": 5,
   "id": "e5454949",
   "metadata": {},
   "outputs": [
    {
     "name": "stdout",
     "output_type": "stream",
     "text": [
      "The number of vowels in 'Hello, World!' is 3.\n"
     ]
    }
   ],
   "source": [
    "# Challenge 2: Working with Strings\n",
    "# Write a program to count the number of vowels in a given string.\n",
    "\n",
    "# Your code here\n",
    "def count_vowels(string):\n",
    "    vowels = \"aeiouAEIOU\"\n",
    "    count = 0\n",
    "    for char in string:\n",
    "        if char in vowels:\n",
    "            count += 1\n",
    "    return count\n",
    "string = \"Hello, World!\"\n",
    "vowel_count = count_vowels(string)\n",
    "print(f\"The number of vowels in '{string}' is {vowel_count}.\")"
   ]
  },
  {
   "cell_type": "code",
   "execution_count": null,
   "id": "a1f752d4",
   "metadata": {},
   "outputs": [],
   "source": [
    "# Challenge 3: Working with Strings\n",
    "# Create a string variable and check if it contains the word 'Python'.\n",
    "\n",
    "# Your code here\n",
    "string = \"I love programming in Python.\"\n",
    "if \"Python\" in string:\n",
    "    print(\"The string contains the word 'Python'.\")\n",
    "else:\n",
    "    print(\"The string does not contain the word 'Python'.\")"
   ]
  },
  {
   "cell_type": "code",
   "execution_count": 9,
   "id": "d548558f",
   "metadata": {},
   "outputs": [
    {
     "name": "stdout",
     "output_type": "stream",
     "text": [
      "Modified string: Hello_World!_How_are_you?\n"
     ]
    }
   ],
   "source": [
    "# Challenge 4: Working with Strings\n",
    "# Write a program to replace all spaces in a string with underscores.\n",
    "\n",
    "# Your code here\n",
    "string = \"Hello World! How are you?\"\n",
    "modified_string = string.replace(\" \", \"_\")\n",
    "print(f\"Modified string: {modified_string}\")"
   ]
  },
  {
   "cell_type": "code",
   "execution_count": null,
   "id": "66eb1272",
   "metadata": {},
   "outputs": [],
   "source": [
    "# Challenge 5: Working with Strings\n",
    "# Create a string variable and print it with the first letter of each word capitalized.\n",
    "# Hint: Use the title() method.\n",
    "\n",
    "# Your code here\n",
    "string = \"hello world\"\n",
    "capitalized_string = string.title()\n",
    "print(f\"Capitalized string {capitalized_string}\")"
   ]
  }
 ],
 "metadata": {
  "kernelspec": {
   "display_name": "Python 3",
   "language": "python",
   "name": "python3"
  },
  "language_info": {
   "codemirror_mode": {
    "name": "ipython",
    "version": 3
   },
   "file_extension": ".py",
   "mimetype": "text/x-python",
   "name": "python",
   "nbconvert_exporter": "python",
   "pygments_lexer": "ipython3",
   "version": "3.9.6"
  }
 },
 "nbformat": 4,
 "nbformat_minor": 5
}
