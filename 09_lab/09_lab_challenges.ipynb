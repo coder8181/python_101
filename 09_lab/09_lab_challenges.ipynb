{
 "cells": [
  {
   "cell_type": "markdown",
   "id": "3a9e529c",
   "metadata": {},
   "source": [
    "# Python Classes Challenges 🏫✨\n",
    "Let's practice using classes in Python! Try these fun and simple challenges to become a class-creating superstar."
   ]
  },
  {
   "cell_type": "markdown",
   "id": "62984acf",
   "metadata": {},
   "source": [
    "## Challenge 1: Create a Dog Class 🐶\n",
    "Make a class called `Dog` that has a name attribute. Create a dog named \"Buddy\" and print its name."
   ]
  },
  {
   "cell_type": "code",
   "execution_count": null,
   "id": "93552674",
   "metadata": {},
   "outputs": [],
   "source": [
    "# Your code here\n",
    "class Dog:\n",
    "    def __init__(self, name):\n",
    "        self.name = name\n",
    "buddy = Dog(\"Buddy\")\n",
    "print(buddy.name)"
   ]
  },
  {
   "cell_type": "markdown",
   "id": "748f3046",
   "metadata": {},
   "source": [
    "## Challenge 2: Add a Method to Bark 🗣️\n",
    "Add a method to your `Dog` class called `bark` that prints \"Woof!\". Make your dog bark!"
   ]
  },
  {
   "cell_type": "code",
   "execution_count": 1,
   "id": "d66798ab",
   "metadata": {},
   "outputs": [
    {
     "name": "stdout",
     "output_type": "stream",
     "text": [
      "Woof!\n"
     ]
    }
   ],
   "source": [
    "# Your code here\n",
    "class Dog:\n",
    "    def __init__(self, name):\n",
    "        self.name = name\n",
    "    def bark(self):\n",
    "        print(\"Woof!\")\n",
    "\n",
    "buddy = Dog(\"Buddy\")\n",
    "buddy.bark()\n",
    "\n"
   ]
  },
  {
   "cell_type": "markdown",
   "id": "7666755f",
   "metadata": {},
   "source": [
    "## Challenge 3: Make a Cat Class 🐱\n",
    "Create a class called `Cat` with a name and a method called `meow` that prints \"Meow!\". Create a cat and make it meow."
   ]
  },
  {
   "cell_type": "code",
   "execution_count": 4,
   "id": "f6edd99b",
   "metadata": {},
   "outputs": [
    {
     "name": "stdout",
     "output_type": "stream",
     "text": [
      "Meow!\n"
     ]
    }
   ],
   "source": [
    "# Your code here\n",
    "class Cat:\n",
    "    def __init__(self, name):\n",
    "        self.name = name\n",
    "    def meow(self):\n",
    "        print(\"Meow!\")\n",
    "whiskers = Cat(\"cat\")\n",
    "whiskers.meow()"
   ]
  },
  {
   "cell_type": "markdown",
   "id": "724aad8a",
   "metadata": {},
   "source": [
    "## Challenge 4: Cookie Factory 🍪\n",
    "Make a class called `Cookie` with a flavor attribute. Create two cookies with different flavors and print their flavors."
   ]
  },
  {
   "cell_type": "code",
   "execution_count": 7,
   "id": "eddd7f07",
   "metadata": {},
   "outputs": [
    {
     "name": "stdout",
     "output_type": "stream",
     "text": [
      "Yum! You ate a chocolate cookie!\n",
      "Yum! You ate a strawberry cookie!\n"
     ]
    }
   ],
   "source": [
    "# Your code here\n",
    "class Cookie:\n",
    "    def __init__(self,flavor):\n",
    "        self.flavor = flavor\n",
    "    def eat(self):\n",
    "        print(f\"Yum! You ate a {self.flavor} cookie!\")\n",
    "cookie1 = Cookie(\"chocolate\")\n",
    "cookie2 = Cookie(\"strawberry\")\n",
    "cookie1.eat()\n",
    "cookie2.eat()"
   ]
  },
  {
   "cell_type": "markdown",
   "id": "141aa80b",
   "metadata": {},
   "source": [
    "## Challenge 5: Superhero Powers 🦸‍♂️\n",
    "Create a class called `Superhero` with a name and a method called `show_power` that prints \"I have super strength!\". Create a superhero and show their power."
   ]
  },
  {
   "cell_type": "code",
   "execution_count": 11,
   "id": "26894605",
   "metadata": {},
   "outputs": [
    {
     "name": "stdout",
     "output_type": "stream",
     "text": [
      "Spiderman uses super strength to save the day!\n"
     ]
    }
   ],
   "source": [
    "# Your code here\n",
    "class Superhero:\n",
    "    def __init__(self, name, power):\n",
    "        self.name = name\n",
    "        self.power = power\n",
    "    def show_power(self):\n",
    "        print(f\"{self.name} uses {self.power} to save the day!\")\n",
    "\n",
    "spiderman = Superhero(\"Spiderman\", \"super strength\")\n",
    "spiderman.show_power()\n"
   ]
  },
  {
   "cell_type": "markdown",
   "id": "2a46659f",
   "metadata": {},
   "source": [
    "## Challenge 7: Backpack Adventure 🎒\n",
    "Create a class called `Backpack` that can store items in a list. Add two items and print all the items in the backpack."
   ]
  },
  {
   "cell_type": "code",
   "execution_count": 18,
   "id": "ffa49c2e",
   "metadata": {},
   "outputs": [
    {
     "name": "stdout",
     "output_type": "stream",
     "text": [
      "Backpack contains: ['Water bottle', 'Notebook']\n"
     ]
    }
   ],
   "source": [
    "# Your code here\n",
    "class Backpack:\n",
    "    def __init__(self):\n",
    "        self.items = []\n",
    "\n",
    "    def add_item(self, item):\n",
    "        self.items.append(item)\n",
    "\n",
    "backpack = Backpack()\n",
    "backpack.add_item(\"Water bottle\")\n",
    "backpack.add_item(\"Notebook\")\n",
    "\n",
    "# Print all items\n",
    "print(\"Backpack contains:\", backpack.items)\n",
    "\n"
   ]
  }
 ],
 "metadata": {
  "kernelspec": {
   "display_name": "Python 3",
   "language": "python",
   "name": "python3"
  },
  "language_info": {
   "codemirror_mode": {
    "name": "ipython",
    "version": 3
   },
   "file_extension": ".py",
   "mimetype": "text/x-python",
   "name": "python",
   "nbconvert_exporter": "python",
   "pygments_lexer": "ipython3",
   "version": "3.9.6"
  }
 },
 "nbformat": 4,
 "nbformat_minor": 5
}
