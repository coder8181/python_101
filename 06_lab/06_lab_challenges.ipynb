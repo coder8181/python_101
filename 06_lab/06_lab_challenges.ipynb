{
<<<<<<< Updated upstream
 "cells": [],
=======
 "cells": [
  {
   "cell_type": "markdown",
   "id": "a9b5fcee",
   "metadata": {},
   "source": [
    "# Built-in Functions Challenges 🧰✨\n",
    "Test your skills with these fun challenges using Python's built-in functions!"
   ]
  },
  {
   "cell_type": "markdown",
   "id": "214acf93",
   "metadata": {},
   "source": [
    "## Challenge 1: Absolute Adventure\n",
    "Use a built-in function to print the absolute value of -25."
   ]
  },
  {
   "cell_type": "code",
   "execution_count": 1,
   "id": "4e04f574",
   "metadata": {},
   "outputs": [
    {
     "name": "stdout",
     "output_type": "stream",
     "text": [
      "25\n"
     ]
    }
   ],
   "source": [
    "print(abs(-25))"
   ]
  },
  {
   "cell_type": "markdown",
   "id": "71ded0fc",
   "metadata": {},
   "source": [
    "## Challenge 2: Rounding Race\n",
    "Round the number 7.654 to 1 decimal place using a built-in function."
   ]
  },
  {
   "cell_type": "code",
   "execution_count": 2,
   "id": "968a48b2",
   "metadata": {},
   "outputs": [
    {
     "name": "stdout",
     "output_type": "stream",
     "text": [
      "7.7\n"
     ]
    }
   ],
   "source": [
    "print(round(7.654,1))"
   ]
  },
  {
   "cell_type": "markdown",
   "id": "6aee4ae8",
   "metadata": {},
   "source": [
    "## Challenge 3: Power Up!\n",
    "Use a built-in function to calculate 5 to the power of 3."
   ]
  },
  {
   "cell_type": "code",
   "execution_count": 3,
   "id": "11f1b2a7",
   "metadata": {},
   "outputs": [
    {
     "name": "stdout",
     "output_type": "stream",
     "text": [
      "125\n"
     ]
    }
   ],
   "source": [
    "print(pow(5, 3))"
   ]
  },
  {
   "cell_type": "markdown",
   "id": "7fe08583",
   "metadata": {},
   "source": [
    "## Challenge 4: String Length\n",
    "Print the number of characters in the string \"PythonRocks\" using a built-in function."
   ]
  },
  {
   "cell_type": "code",
   "execution_count": 4,
   "id": "987e9026",
   "metadata": {},
   "outputs": [
    {
     "name": "stdout",
     "output_type": "stream",
     "text": [
      "11\n"
     ]
    }
   ],
   "source": [
    "word = \"PythonRocks\"\n",
    "print(len(word))"
   ]
  },
  {
   "cell_type": "markdown",
   "id": "c5e1dea0",
   "metadata": {},
   "source": [
    "## Challenge 5: List Sorting\n",
    "Sort the list [9, 2, 7, 4, 1] in ascending order using a built-in function and print the result."
   ]
  },
  {
   "cell_type": "code",
   "execution_count": 5,
   "id": "412d846a",
   "metadata": {},
   "outputs": [
    {
     "name": "stdout",
     "output_type": "stream",
     "text": [
      "[1, 2, 4, 7, 9]\n"
     ]
    }
   ],
   "source": [
    "assc = [9,2,7,4,1]\n",
    "print(sorted(assc))\n"
   ]
  },
  {
   "cell_type": "markdown",
   "id": "359fb623",
   "metadata": {},
   "source": [
    "## Challenge 6: Type Detective\n",
    "Print the type of the value 3.14 using a built-in function."
   ]
  },
  {
   "cell_type": "code",
   "execution_count": 14,
   "id": "1b0c9be2",
   "metadata": {},
   "outputs": [
    {
     "name": "stdout",
     "output_type": "stream",
     "text": [
      "<class 'float'>\n"
     ]
    }
   ],
   "source": [
    "print(type(3.14))"
   ]
  },
  {
   "cell_type": "markdown",
   "id": "03b92e11",
   "metadata": {},
   "source": [
    "## Challenge 7: Filter the Even Numbers\n",
    "Use a built-in function to filter out only the even numbers from the list [1, 2, 3, 4, 5, 6]."
   ]
  },
  {
   "cell_type": "code",
   "execution_count": 8,
   "id": "6795025e",
   "metadata": {},
   "outputs": [
    {
     "name": "stdout",
     "output_type": "stream",
     "text": [
      "[2, 4, 6]\n"
     ]
    }
   ],
   "source": [
    "even_numbers = [1,2,3,4,5,6]\n",
    "even_numbers = list(filter(lambda x: x % 2 == 0, even_numbers))\n",
    "print(even_numbers)"
   ]
  },
  {
   "cell_type": "markdown",
   "id": "24d1d479",
   "metadata": {},
   "source": [
    "## Challenge 8: All or Any?\n",
    "Use built-in functions to check if all numbers in [2, 4, 6, 8] are even, and if any number in [1, 3, 5, 6] is even."
   ]
  },
  {
   "cell_type": "code",
   "execution_count": 10,
   "id": "31fb95a4",
   "metadata": {},
   "outputs": [
    {
     "name": "stdout",
     "output_type": "stream",
     "text": [
      "True\n",
      "True\n"
     ]
    }
   ],
   "source": [
    "num1 = [2, 4, 6, 8]\n",
    "num2 = [1, 3, 5, 6]\n",
    "\n",
    "print(all(x % 2 == 0 for x in num1))\n",
    "print(any(x % 2 == 0 for x in num2))"
   ]
  },
  {
   "cell_type": "markdown",
   "id": "c519a69a",
   "metadata": {},
   "source": [
    "## Challenge 9: Character Codes\n",
    "Print the character for the number 90 and the number for the character 'z' using built-in functions."
   ]
  },
  {
   "cell_type": "code",
   "execution_count": 13,
   "id": "d7514779",
   "metadata": {},
   "outputs": [
    {
     "name": "stdout",
     "output_type": "stream",
     "text": [
      "Z\n",
      "122\n"
     ]
    }
   ],
   "source": [
    "print(chr(90))\n",
    "print(ord('z'))"
   ]
  }
 ],
>>>>>>> Stashed changes
 "metadata": {
  "kernelspec": {
   "display_name": "Python 3",
   "language": "python",
   "name": "python3"
  },
  "language_info": {
   "codemirror_mode": {
    "name": "ipython",
    "version": 3
   },
   "file_extension": ".py",
   "mimetype": "text/x-python",
   "name": "python",
   "nbconvert_exporter": "python",
   "pygments_lexer": "ipython3",
   "version": "3.9.6"
  }
 },
 "nbformat": 4,
 "nbformat_minor": 5
}
