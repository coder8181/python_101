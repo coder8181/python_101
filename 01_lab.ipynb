{
 "cells": [
  {
   "cell_type": "markdown",
   "id": "af092cd8",
   "metadata": {},
   "source": [
    "# 🎉 Python Adventures!\n",
    "Welcome to the world of Python programming! 🐍 Let's go on an exciting journey to learn how to code while having fun!"
   ]
  },
  {
   "cell_type": "markdown",
   "id": "efa5b2ad",
   "metadata": {},
   "source": [
    "## 1. Variables and Print Statements ✨\n",
    "Variables are like magic boxes 🧙‍♂️ where you can store your favorite things, like numbers, words, or even emojis! Print statements are your way of showing off what's inside your magic box. Let's learn how to use them!"
   ]
  },
  {
   "cell_type": "markdown",
   "id": "cf4813fa",
   "metadata": {},
   "source": [
    "### Instructions:\n",
    "1. Create a magic box (variable) to store your name. 🧑‍🎤\n",
    "2. Create another magic box to store your age. 🎂\n",
    "3. Use the `print()` spell to show everyone your name and age! ✨"
   ]
  },
  {
   "cell_type": "code",
   "execution_count": 2,
   "id": "e0b33b79",
   "metadata": {},
   "outputs": [
    {
     "name": "stdout",
     "output_type": "stream",
     "text": [
      "My name is Your Name and I am 25 years old.\n"
     ]
    }
   ],
   "source": [
    "# Step 1: Create variables\n",
    "name = 'Your Name'\n",
    "age = 16\n",
    "\n",
    "# Step 2: Print a message\n",
    "print(f'My name is {name} and I am {age} years old.')"
   ]
  },
  {
   "cell_type": "markdown",
   "id": "1bd3b47d",
   "metadata": {},
   "source": [
    "## 1. Variables and Print Statements ✨\n",
    "### Examples:"
   ]
  },
  {
   "cell_type": "code",
   "execution_count": null,
   "id": "48bed430",
   "metadata": {},
   "outputs": [],
   "source": [
    "# Example 1\n",
    "favorite_color = 'Blue'\n",
    "print('My favorite color is', favorite_color)"
   ]
  },
  {
   "cell_type": "code",
   "execution_count": null,
   "id": "e68fe741",
   "metadata": {},
   "outputs": [],
   "source": [
    "# Example 2\n",
    "height_cm = 170\n",
    "print('My height is', height_cm, 'cm')"
   ]
  },
  {
   "cell_type": "code",
   "execution_count": null,
   "id": "aea9862b",
   "metadata": {},
   "outputs": [],
   "source": [
    "# Example 3\n",
    "city = 'New York'\n",
    "country = 'USA'\n",
    "print('I live in', city, ',', country)"
   ]
  },
  {
   "cell_type": "code",
   "execution_count": null,
   "id": "a6dd3a86",
   "metadata": {},
   "outputs": [],
   "source": [
    "# Example 4\n",
    "birth_year = 1995\n",
    "current_year = 2025\n",
    "age = current_year - birth_year\n",
    "print('I am', age, 'years old')"
   ]
  },
  {
   "cell_type": "code",
   "execution_count": null,
   "id": "8e9dc086",
   "metadata": {},
   "outputs": [],
   "source": [
    "# Example 5\n",
    "likes_python = True\n",
    "print('Do I like Python?', likes_python)"
   ]
  },
  {
   "cell_type": "markdown",
   "id": "d8d8c9b2",
   "metadata": {},
   "source": [
    "## Challenges: Variables and Print Statements\n",
    "1. Create a variable to store your favorite food and print a message about it. 🍕\n",
    "   Hint: Use the `print()` function to display the message.\n",
    "2. Store your best friend's name in a variable and print a message introducing them. 👫\n",
    "3. Create two variables for your height and weight, and print a message showing both. 📏⚖️\n",
    "4. Store your favorite hobby in a variable and print a message about why you love it. 🎨\n",
    "5. Create a variable for your birth year and calculate your age using the current year. 🎂\n",
    "   Hint: Subtract your birth year from the current year."
   ]
  },
  {
   "cell_type": "code",
   "execution_count": null,
   "id": "c276674f",
   "metadata": {},
   "outputs": [],
   "source": [
    "# Challenge 1: Variables and Print Statements\n",
    "# Create a variable to store your favorite food and print a message about it.\n",
    "# Hint: Use the print() function to display the message.\n",
    "\n",
    "# Your code here"
   ]
  },
  {
   "cell_type": "code",
   "execution_count": null,
   "id": "e41c18f5",
   "metadata": {},
   "outputs": [],
   "source": [
    "# Challenge 2: Variables and Print Statements\n",
    "# Store your best friend's name in a variable and print a message introducing them.\n",
    "\n",
    "# Your code here"
   ]
  },
  {
   "cell_type": "code",
   "execution_count": null,
   "id": "f31fd2a3",
   "metadata": {},
   "outputs": [],
   "source": [
    "# Challenge 3: Variables and Print Statements\n",
    "# Create two variables for your height and weight, and print a message showing both.\n",
    "\n",
    "# Your code here"
   ]
  },
  {
   "cell_type": "code",
   "execution_count": null,
   "id": "f20cfd98",
   "metadata": {},
   "outputs": [],
   "source": [
    "# Challenge 4: Variables and Print Statements\n",
    "# Store your favorite hobby in a variable and print a message about why you love it.\n",
    "\n",
    "# Your code here"
   ]
  },
  {
   "cell_type": "code",
   "execution_count": null,
   "id": "7693712c",
   "metadata": {},
   "outputs": [],
   "source": [
    "# Challenge 5: Variables and Print Statements\n",
    "# Create a variable for your birth year and calculate your age using the current year.\n",
    "# Hint: Subtract your birth year from the current year.\n",
    "\n",
    "# Your code here"
   ]
  },
  {
   "cell_type": "markdown",
   "id": "f0bbb25e",
   "metadata": {},
   "source": [
    "## 2. Conditions (if-else) 🤔\n",
    "Conditions are like making decisions in a game! 🎮 If something is true, you do one thing, and if not, you do something else. Let's learn how to make your code smart and decisive!"
   ]
  },
  {
   "cell_type": "markdown",
   "id": "2271e45c",
   "metadata": {},
   "source": [
    "### Instructions:\n",
    "1. Create a number and check if it's positive, negative, or zero. 🔢\n",
    "2. Use your code to decide what to say for each case. 🗣️\n",
    "3. Print a fun message for each decision! 🎉"
   ]
  },
  {
   "cell_type": "code",
   "execution_count": null,
   "id": "c02331a6",
   "metadata": {},
   "outputs": [],
   "source": [
    "# Step 1: Create a variable\n",
    "number = 10\n",
    "\n",
    "# Step 2: Use if-else conditions\n",
    "if number > 0:\n",
    "    print('The number is positive.')\n",
    "elif number < 0:\n",
    "    print('The number is negative.')\n",
    "else:\n",
    "    print('The number is zero.')"
   ]
  },
  {
   "cell_type": "code",
   "execution_count": null,
   "id": "3eac5987",
   "metadata": {},
   "outputs": [],
   "source": [
    "# Example 1\n",
    "number = 4\n",
    "if number % 2 == 0:\n",
    "    print('The number is even.')\n",
    "else:\n",
    "    print('The number is odd.')"
   ]
  },
  {
   "cell_type": "code",
   "execution_count": null,
   "id": "19be0fa4",
   "metadata": {},
   "outputs": [],
   "source": [
    "# Example 2\n",
    "age = 20\n",
    "if age >= 18:\n",
    "    print('Eligible to vote.')\n",
    "else:\n",
    "    print('Not eligible to vote.')"
   ]
  },
  {
   "cell_type": "code",
   "execution_count": null,
   "id": "5e52ff51",
   "metadata": {},
   "outputs": [],
   "source": [
    "# Example 3\n",
    "text = 'apple'\n",
    "if 'a' in text:\n",
    "    print('The text contains the letter a.')\n",
    "else:\n",
    "    print('The text does not contain the letter a.')"
   ]
  },
  {
   "cell_type": "code",
   "execution_count": null,
   "id": "ba96c588",
   "metadata": {},
   "outputs": [],
   "source": [
    "# Example 4\n",
    "number = 15\n",
    "if number % 5 == 0:\n",
    "    print('The number is divisible by 5.')\n",
    "else:\n",
    "    print('The number is not divisible by 5.')"
   ]
  },
  {
   "cell_type": "code",
   "execution_count": null,
   "id": "2e82dd3d",
   "metadata": {},
   "outputs": [],
   "source": [
    "# Example 5\n",
    "temperature = 25\n",
    "if temperature > 30:\n",
    "    print('It is hot.')\n",
    "elif temperature < 15:\n",
    "    print('It is cold.')\n",
    "else:\n",
    "    print('The temperature is moderate.')"
   ]
  },
  {
   "cell_type": "markdown",
   "id": "0f0503e1",
   "metadata": {},
   "source": [
    "## Challenges: Conditions (if-else)\n",
    "1. Write a program to check if a number is divisible by both 3 and 5. 🔢\n",
    "   Hint: Use the modulo operator `%` to check divisibility.\n",
    "2. Create a program to check if a given word starts with a vowel. 🅰️\n",
    "3. Write a program to determine if a person is eligible for a senior citizen discount (age >= 60). 👵\n",
    "4. Check if a number is a multiple of 7 or not. 🎲\n",
    "5. Write a program to decide if a temperature is 'hot', 'cold', or 'moderate' based on user input. 🌡️\n",
    "   Hint: Use if-elif-else conditions to categorize the temperature."
   ]
  },
  {
   "cell_type": "code",
   "execution_count": null,
   "id": "ecc648cd",
   "metadata": {},
   "outputs": [],
   "source": [
    "# Challenge 1: Conditions (if-else)\n",
    "# Write a program to check if a number is divisible by both 3 and 5.\n",
    "# Hint: Use the modulo operator % to check divisibility.\n",
    "\n",
    "# Your code here"
   ]
  },
  {
   "cell_type": "code",
   "execution_count": null,
   "id": "90a75e11",
   "metadata": {},
   "outputs": [],
   "source": [
    "# Challenge 2: Conditions (if-else)\n",
    "# Create a program to check if a given word starts with a vowel.\n",
    "\n",
    "# Your code here"
   ]
  },
  {
   "cell_type": "code",
   "execution_count": null,
   "id": "86f45344",
   "metadata": {},
   "outputs": [],
   "source": [
    "# Challenge 3: Conditions (if-else)\n",
    "# Write a program to determine if a person is eligible for a senior citizen discount (age >= 60).\n",
    "\n",
    "# Your code here"
   ]
  },
  {
   "cell_type": "code",
   "execution_count": null,
   "id": "68df9e01",
   "metadata": {},
   "outputs": [],
   "source": [
    "# Challenge 4: Conditions (if-else)\n",
    "# Check if a number is a multiple of 7 or not.\n",
    "\n",
    "# Your code here"
   ]
  },
  {
   "cell_type": "code",
   "execution_count": null,
   "id": "ef473350",
   "metadata": {},
   "outputs": [],
   "source": [
    "# Challenge 5: Conditions (if-else)\n",
    "# Write a program to decide if a temperature is 'hot', 'cold', or 'moderate' based on user input.\n",
    "# Hint: Use if-elif-else conditions to categorize the temperature.\n",
    "\n",
    "# Your code here"
   ]
  },
  {
   "cell_type": "markdown",
   "id": "1db85994",
   "metadata": {},
   "source": [
    "## 3. Loops (for and while) 🔄\n",
    "Loops are like a roller coaster 🎢 that goes around and around! They help you repeat things without getting dizzy. Let's learn how to use loops to make your code super powerful!"
   ]
  },
  {
   "cell_type": "markdown",
   "id": "4a055647",
   "metadata": {},
   "source": [
    "### Instructions:\n",
    "1. Use a `for` loop to count from 1 to 10. 🧮\n",
    "2. Use a `while` loop to count backward from 10 to 1. ⏳\n",
    "3. Print something fun during each loop! 🎈"
   ]
  },
  {
   "cell_type": "code",
   "execution_count": null,
   "id": "c5cbaad0",
   "metadata": {},
   "outputs": [],
   "source": [
    "# Step 1: For loop\n",
    "print('Numbers from 1 to 10:')\n",
    "for i in range(1, 11):\n",
    "    print(i)\n",
    "\n",
    "# Step 2: While loop\n",
    "print('Numbers from 10 to 1:')\n",
    "count = 10\n",
    "while count > 0:\n",
    "    print(count)\n",
    "    count -= 1"
   ]
  },
  {
   "cell_type": "markdown",
   "id": "f0a9a832",
   "metadata": {},
   "source": [
    "## 3. Loops (for and while) 🔄\n",
    "### Examples:"
   ]
  },
  {
   "cell_type": "code",
   "execution_count": null,
   "id": "a07dd55f",
   "metadata": {},
   "outputs": [],
   "source": [
    "# Example 1\n",
    "print('First 5 multiples of 3:')\n",
    "for i in range(1, 6):\n",
    "    print(i * 3)"
   ]
  },
  {
   "cell_type": "code",
   "execution_count": null,
   "id": "3d414966",
   "metadata": {},
   "outputs": [],
   "source": [
    "# Example 2\n",
    "print('Numbers from 10 to 1:')\n",
    "count = 10\n",
    "while count > 0:\n",
    "    print(count)\n",
    "    count -= 1"
   ]
  },
  {
   "cell_type": "code",
   "execution_count": null,
   "id": "632c3820",
   "metadata": {},
   "outputs": [],
   "source": [
    "# Example 3\n",
    "text = 'Python'\n",
    "print('Characters in the string:')\n",
    "for char in text:\n",
    "    print(char)"
   ]
  },
  {
   "cell_type": "code",
   "execution_count": null,
   "id": "7c72d917",
   "metadata": {},
   "outputs": [],
   "source": [
    "# Example 4\n",
    "total = 0\n",
    "for i in range(1, 11):\n",
    "    total += i\n",
    "print('Sum of numbers from 1 to 10:', total)"
   ]
  },
  {
   "cell_type": "code",
   "execution_count": null,
   "id": "055c5b5d",
   "metadata": {},
   "outputs": [],
   "source": [
    "# Example 5\n",
    "print('Numbers from 1 to 20, skipping multiples of 3:')\n",
    "for i in range(1, 21):\n",
    "    if i % 3 == 0:\n",
    "        continue\n",
    "    print(i)"
   ]
  },
  {
   "cell_type": "markdown",
   "id": "56739116",
   "metadata": {},
   "source": [
    "## Challenges: Loops (for and while)\n",
    "1. Use a for loop to print the first 10 square numbers. 🔢\n",
    "   Hint: Use `i**2` to calculate the square of a number.\n",
    "2. Write a while loop to calculate the sum of all even numbers between 1 and 50. ➕\n",
    "3. Create a for loop to print all the characters in a string in reverse order. 🔄\n",
    "4. Use a while loop to find the factorial of a number provided by the user. ✖️\n",
    "   Hint: Multiply numbers in descending order until 1.\n",
    "5. Write a for loop to print all the prime numbers between 1 and 100. 🧮\n",
    "   Hint: Use nested loops to check if a number is divisible only by 1 and itself."
   ]
  },
  {
   "cell_type": "code",
   "execution_count": null,
   "id": "ea0e7eff",
   "metadata": {},
   "outputs": [],
   "source": [
    "# Challenge 1: Loops (for and while)\n",
    "# Use a for loop to print the first 10 square numbers.\n",
    "# Hint: Use i**2 to calculate the square of a number.\n",
    "\n",
    "# Your code here"
   ]
  },
  {
   "cell_type": "code",
   "execution_count": null,
   "id": "4ddce291",
   "metadata": {},
   "outputs": [],
   "source": [
    "# Challenge 2: Loops (for and while)\n",
    "# Write a while loop to calculate the sum of all even numbers between 1 and 50.\n",
    "\n",
    "# Your code here"
   ]
  },
  {
   "cell_type": "code",
   "execution_count": null,
   "id": "07e2b400",
   "metadata": {},
   "outputs": [],
   "source": [
    "# Challenge 3: Loops (for and while)\n",
    "# Create a for loop to print all the characters in a string in reverse order.\n",
    "\n",
    "# Your code here"
   ]
  },
  {
   "cell_type": "code",
   "execution_count": null,
   "id": "743b03db",
   "metadata": {},
   "outputs": [],
   "source": [
    "# Challenge 4: Loops (for and while)\n",
    "# Use a while loop to find the factorial of a number provided by the user.\n",
    "# Hint: Multiply numbers in descending order until 1.\n",
    "\n",
    "# Your code here"
   ]
  },
  {
   "cell_type": "code",
   "execution_count": null,
   "id": "8a268b51",
   "metadata": {},
   "outputs": [],
   "source": [
    "# Challenge 5: Loops (for and while)\n",
    "# Write a for loop to print all the prime numbers between 1 and 100.\n",
    "# Hint: Use nested loops to check if a number is divisible only by 1 and itself.\n",
    "\n",
    "# Your code here"
   ]
  },
  {
   "cell_type": "markdown",
   "id": "15a9c13c",
   "metadata": {},
   "source": [
    "## Example: While Loop\n",
    "This example demonstrates the use of a while loop to calculate the factorial of a number."
   ]
  },
  {
   "cell_type": "code",
   "execution_count": null,
   "id": "e1fe6f67",
   "metadata": {},
   "outputs": [],
   "source": [
    "# Example: Calculate factorial using a while loop\n",
    "number = 5\n",
    "factorial = 1\n",
    "\n",
    "# Initialize a counter\n",
    "counter = number\n",
    "while counter > 0:\n",
    "    factorial *= counter\n",
    "    counter -= 1\n",
    "\n",
    "print(f'The factorial of {number} is {factorial}')"
   ]
  },
  {
   "cell_type": "markdown",
   "id": "6846ad39",
   "metadata": {},
   "source": [
    "## 4. User Input 🎤\n",
    "User input is like asking your friends questions! 🤔 You can ask them their name, favorite number, or anything you want. Let's learn how to make your code talk to people!"
   ]
  },
  {
   "cell_type": "markdown",
   "id": "9eb57a85",
   "metadata": {},
   "source": [
    "### Instructions:\n",
    "1. Ask your friend to enter their name. 🧑‍🤝‍🧑\n",
    "2. Ask them to enter their favorite number. 🔢\n",
    "3. Print a fun message using their answers! 🎉"
   ]
  },
  {
   "cell_type": "markdown",
   "id": "9e94c773",
   "metadata": {},
   "source": [
    "## Challenges: User Input\n",
    "1. Ask the user for their favorite movie and print a message recommending it to others. 🎥\n",
    "2. Write a program to ask the user for two numbers and print their sum, difference, and product. ➕➖✖️\n",
    "3. Ask the user for their birth year and calculate their age. 🎂\n",
    "   Hint: Subtract the birth year from the current year.\n",
    "4. Create a program to ask the user for a number and check if it's even or odd. 🔢\n",
    "   Hint: Use the modulo operator `%` to check for evenness.\n",
    "5. Ask the user for their name and a number, then print their name that many times. 🔁\n",
    "   Hint: Use a loop to repeat the name."
   ]
  },
  {
   "cell_type": "code",
   "execution_count": null,
   "id": "d5676438",
   "metadata": {},
   "outputs": [],
   "source": [
    "# Challenge 1: User Input\n",
    "# Ask the user for their favorite movie and print a message recommending it to others.\n",
    "\n",
    "# Your code here"
   ]
  },
  {
   "cell_type": "code",
   "execution_count": null,
   "id": "d5f598db",
   "metadata": {},
   "outputs": [],
   "source": [
    "# Challenge 2: User Input\n",
    "# Write a program to ask the user for two numbers and print their sum, difference, and product.\n",
    "\n",
    "# Your code here"
   ]
  },
  {
   "cell_type": "code",
   "execution_count": null,
   "id": "e7082524",
   "metadata": {},
   "outputs": [],
   "source": [
    "# Challenge 3: User Input\n",
    "# Ask the user for their birth year and calculate their age.\n",
    "# Hint: Subtract the birth year from the current year.\n",
    "\n",
    "# Your code here"
   ]
  },
  {
   "cell_type": "code",
   "execution_count": null,
   "id": "01f70768",
   "metadata": {},
   "outputs": [],
   "source": [
    "# Challenge 4: User Input\n",
    "# Create a program to ask the user for a number and check if it's even or odd.\n",
    "# Hint: Use the modulo operator % to check for evenness.\n",
    "\n",
    "# Your code here"
   ]
  },
  {
   "cell_type": "code",
   "execution_count": null,
   "id": "6b99c415",
   "metadata": {},
   "outputs": [],
   "source": [
    "# Challenge 5: User Input\n",
    "# Ask the user for their name and a number, then print their name that many times.\n",
    "# Hint: Use a loop to repeat the name.\n",
    "\n",
    "# Your code here"
   ]
  },
  {
   "cell_type": "markdown",
   "id": "42605ce8",
   "metadata": {},
   "source": [
    "## 5. Working with Strings 🧵\n",
    "Strings are like necklaces of characters! 💎 You can create, modify, and play with them in Python. Let's learn how to work with strings!"
   ]
  },
  {
   "cell_type": "markdown",
   "id": "1050b796",
   "metadata": {},
   "source": [
    "### Instructions:\n",
    "1. Create a string variable to store your favorite quote. 📝\n",
    "2. Print the length of the string using the `len()` function. 📏\n",
    "3. Convert the string to uppercase and print it. 🔠\n",
    "4. Extract and print the first word of the string. ✂️\n",
    "5. Replace a word in the string with another word and print the result. 🔄"
   ]
  },
  {
   "cell_type": "code",
   "execution_count": null,
   "id": "061215ea",
   "metadata": {},
   "outputs": [],
   "source": [
    "# Step 1: Create a string variable\n",
    "quote = 'The best way to predict the future is to invent it.'\n",
    "\n",
    "# Step 2: Print the length of the string\n",
    "print('Length of the quote:', len(quote))\n",
    "\n",
    "# Step 3: Convert the string to uppercase\n",
    "print('Uppercase quote:', quote.upper())\n",
    "\n",
    "# Step 4: Extract and print the first word\n",
    "first_word = quote.split()[0]\n",
    "print('First word:', first_word)\n",
    "\n",
    "# Step 5: Replace a word in the string\n",
    "modified_quote = quote.replace('invent', 'create')\n",
    "print('Modified quote:', modified_quote)"
   ]
  },
  {
   "cell_type": "markdown",
   "id": "976e2e4d",
   "metadata": {},
   "source": [
    "## Challenges: Working with Strings\n",
    "1. Create a string variable to store your name and print it in reverse order. 🔄\n",
    "   Hint: Use slicing to reverse the string.\n",
    "2. Write a program to count the number of vowels in a given string. 🅰️\n",
    "3. Create a string variable and check if it contains the word 'Python'. 🐍\n",
    "4. Write a program to replace all spaces in a string with underscores. ➖\n",
    "5. Create a string variable and print it with the first letter of each word capitalized. 🔤\n",
    "   Hint: Use the `title()` method."
   ]
  },
  {
   "cell_type": "code",
   "execution_count": null,
   "id": "3d16301e",
   "metadata": {},
   "outputs": [],
   "source": [
    "# Empty cell for Working with Strings challenges"
   ]
  },
  {
   "cell_type": "code",
   "execution_count": null,
   "id": "db946fda",
   "metadata": {},
   "outputs": [],
   "source": [
    "# Challenge 1: Working with Strings\n",
    "# Create a string variable to store your name and print it in reverse order.\n",
    "# Hint: Use slicing to reverse the string.\n",
    "\n",
    "# Your code here"
   ]
  },
  {
   "cell_type": "code",
   "execution_count": null,
   "id": "56644f72",
   "metadata": {},
   "outputs": [],
   "source": [
    "# Challenge 2: Working with Strings\n",
    "# Write a program to count the number of vowels in a given string.\n",
    "\n",
    "# Your code here"
   ]
  },
  {
   "cell_type": "code",
   "execution_count": null,
   "id": "ea82cd49",
   "metadata": {},
   "outputs": [],
   "source": [
    "# Challenge 3: Working with Strings\n",
    "# Create a string variable and check if it contains the word 'Python'.\n",
    "\n",
    "# Your code here"
   ]
  },
  {
   "cell_type": "code",
   "execution_count": null,
   "id": "3b632811",
   "metadata": {},
   "outputs": [],
   "source": [
    "# Challenge 4: Working with Strings\n",
    "# Write a program to replace all spaces in a string with underscores.\n",
    "\n",
    "# Your code here"
   ]
  },
  {
   "cell_type": "code",
   "execution_count": null,
   "id": "f6bb9564",
   "metadata": {},
   "outputs": [],
   "source": [
    "# Challenge 5: Working with Strings\n",
    "# Create a string variable and print it with the first letter of each word capitalized.\n",
    "# Hint: Use the title() method.\n",
    "\n",
    "# Your code here"
   ]
  }
 ],
 "metadata": {
  "kernelspec": {
   "display_name": "Python 3",
   "language": "python",
   "name": "python3"
  },
  "language_info": {
   "codemirror_mode": {
    "name": "ipython",
    "version": 3
   },
   "file_extension": ".py",
   "mimetype": "text/x-python",
   "name": "python",
   "nbconvert_exporter": "python",
   "pygments_lexer": "ipython3",
   "version": "3.12.1"
  }
 },
 "nbformat": 4,
 "nbformat_minor": 5
}
